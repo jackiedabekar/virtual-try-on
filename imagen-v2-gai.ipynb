{
 "cells": [
  {
   "cell_type": "markdown",
   "id": "037db37b",
   "metadata": {},
   "source": [
    "# Python Imports"
   ]
  },
  {
   "cell_type": "code",
   "execution_count": 45,
   "id": "a1e40709",
   "metadata": {},
   "outputs": [],
   "source": [
    "import os\n",
    "import mimetypes\n",
    "from google import genai\n",
    "from google.genai import types\n",
    "from PIL import Image\n",
    "from io import BytesIO\n",
    "from dotenv import load_dotenv"
   ]
  },
  {
   "cell_type": "markdown",
   "id": "403a171f",
   "metadata": {},
   "source": [
    "# Loading Credentials from `.env`"
   ]
  },
  {
   "cell_type": "code",
   "execution_count": 46,
   "id": "280a7ecd",
   "metadata": {},
   "outputs": [],
   "source": [
    "load_dotenv(dotenv_path=\".env\", override=True)\n",
    "\n",
    "API_KEY = os.environ.get(\"GEMINI_API_KEY\", \"\")\n",
    "\n",
    "# Initialize the client (Gemini Developer API)\n",
    "client = genai.Client(api_key=API_KEY)\n",
    "\n",
    "model = \"gemini-2.5-flash-image-preview\""
   ]
  },
  {
   "cell_type": "markdown",
   "id": "9bf3c01b",
   "metadata": {},
   "source": [
    "# Read multiple local images as bytes"
   ]
  },
  {
   "cell_type": "code",
   "execution_count": 47,
   "id": "31384016",
   "metadata": {},
   "outputs": [],
   "source": [
    "image_paths = [\"./virtual-try-on/blue-dress.jpg\", \"./virtual-try-on/female-model.png\"]  # First: dress, Second: model\n",
    "image_parts = []\n",
    "for i, image_path in enumerate(image_paths, start=1):\n",
    "    if not os.path.exists(image_path):\n",
    "        raise FileNotFoundError(f\"Image file not found: {image_path}\")\n",
    "    with open(image_path, \"rb\") as f:\n",
    "        image_bytes = f.read()\n",
    "    mime_type, _ = mimetypes.guess_type(image_path)\n",
    "    if mime_type is None:\n",
    "        mime_type = \"image/jpeg\" if image_path.lower().endswith('.jpg') else \"image/png\"\n",
    "    image_parts.append(types.Part.from_bytes(data=image_bytes, mime_type=mime_type))"
   ]
  },
  {
   "cell_type": "markdown",
   "id": "e4fb90e2",
   "metadata": {},
   "source": [
    "# Display `image_parts`"
   ]
  },
  {
   "cell_type": "code",
   "execution_count": 48,
   "id": "e8711dd2",
   "metadata": {},
   "outputs": [
    {
     "data": {
      "text/plain": [
       "[Part(\n",
       "   inline_data=Blob(\n",
       "     data=b'\\xff\\xd8\\xff\\xe0\\x00\\x10JFIF\\x00\\x01\\x01\\x00\\x00\\x01\\x00\\x01\\x00\\x00\\xff\\xe2\\x01\\xd8ICC_PROFILE\\x00\\x01\\x01\\x00\\x00\\x01\\xc8\\x00\\x00\\x00\\x00\\x040\\x00\\x00mntrRGB XYZ \\x07\\xe0\\x00\\x01\\x00\\x01\\x00\\x00\\x00\\x00\\x00\\x00acsp\\x00\\x00\\x00\\x00\\x00\\x00\\x00\\x00\\x00\\x00\\x00\\x00\\x00\\x00\\x00\\x00\\x00\\x00\\x00...',\n",
       "     mime_type='image/jpeg'\n",
       "   )\n",
       " ),\n",
       " Part(\n",
       "   inline_data=Blob(\n",
       "     data=b\"\\x89PNG\\r\\n\\x1a\\n\\x00\\x00\\x00\\rIHDR\\x00\\x00\\x03\\x80\\x00\\x00\\x04\\x80\\x08\\x02\\x00\\x00\\x00!\\xf1\\xb4\\x8e\\x00\\x00\\x00\\tpHYs\\x00\\x00\\x00\\x01\\x00\\x00\\x00\\x01\\x00O%\\xc4\\xd6\\x00\\x00\\x10\\x00IDATx\\x9ct\\xbd\\xf7W\\x14Y\\xd7\\xfe}\\xff\\xf0~\\xef1'\\x82\\x18\\xc9\\x99nr\\xceYQ\\t\\xa2\\x82\\x8aD\\xc7q\\xcc\\xa0...',\n",
       "     mime_type='image/png'\n",
       "   )\n",
       " )]"
      ]
     },
     "execution_count": 48,
     "metadata": {},
     "output_type": "execute_result"
    }
   ],
   "source": [
    "image_parts"
   ]
  },
  {
   "cell_type": "markdown",
   "id": "6b7a0020",
   "metadata": {},
   "source": [
    "# Define the content: Prompt references the images explicitly"
   ]
  },
  {
   "cell_type": "code",
   "execution_count": 49,
   "id": "5e61a2f3",
   "metadata": {},
   "outputs": [],
   "source": [
    "prompt = \"\"\"Create a professional e-commerce fashion photo. \n",
    "            Take the blue dress from the first image and let the woman from the second image wear it.\n",
    "            Generate a realistic, full-body shot of the woman wearing the dress. \n",
    "            Ensure the woman's face, her pose, and dress design and features remain completely unchanged.\"\"\"\n",
    "\n",
    "\n",
    "contents = [\n",
    "        types.Content(\n",
    "            role=\"user\",\n",
    "            parts=[\n",
    "                types.Part.from_text(text=prompt),\n",
    "                image_parts[0],  # First image: dress\n",
    "                image_parts[1],  # Second image: model\n",
    "            ]\n",
    "        )\n",
    "    ]"
   ]
  },
  {
   "cell_type": "markdown",
   "id": "6c7c331d",
   "metadata": {},
   "source": [
    "# Display `contents`"
   ]
  },
  {
   "cell_type": "code",
   "execution_count": 50,
   "id": "3d13f783",
   "metadata": {},
   "outputs": [
    {
     "data": {
      "text/plain": [
       "[Content(\n",
       "   parts=[\n",
       "     Part(\n",
       "       text=\"\"\"Create a professional e-commerce fashion photo. \n",
       "             Take the blue dress from the first image and let the woman from the second image wear it.\n",
       "             Generate a realistic, full-body shot of the woman wearing the dress. \n",
       "             Ensure the woman's face, her pose, and dress design and features remain completely unchanged.\"\"\"\n",
       "     ),\n",
       "     Part(\n",
       "       inline_data=Blob(\n",
       "         data=b'\\xff\\xd8\\xff\\xe0\\x00\\x10JFIF\\x00\\x01\\x01\\x00\\x00\\x01\\x00\\x01\\x00\\x00\\xff\\xe2\\x01\\xd8ICC_PROFILE\\x00\\x01\\x01\\x00\\x00\\x01\\xc8\\x00\\x00\\x00\\x00\\x040\\x00\\x00mntrRGB XYZ \\x07\\xe0\\x00\\x01\\x00\\x01\\x00\\x00\\x00\\x00\\x00\\x00acsp\\x00\\x00\\x00\\x00\\x00\\x00\\x00\\x00\\x00\\x00\\x00\\x00\\x00\\x00\\x00\\x00\\x00\\x00\\x00...',\n",
       "         mime_type='image/jpeg'\n",
       "       )\n",
       "     ),\n",
       "     Part(\n",
       "       inline_data=Blob(\n",
       "         data=b\"\\x89PNG\\r\\n\\x1a\\n\\x00\\x00\\x00\\rIHDR\\x00\\x00\\x03\\x80\\x00\\x00\\x04\\x80\\x08\\x02\\x00\\x00\\x00!\\xf1\\xb4\\x8e\\x00\\x00\\x00\\tpHYs\\x00\\x00\\x00\\x01\\x00\\x00\\x00\\x01\\x00O%\\xc4\\xd6\\x00\\x00\\x10\\x00IDATx\\x9ct\\xbd\\xf7W\\x14Y\\xd7\\xfe}\\xff\\xf0~\\xef1'\\x82\\x18\\xc9\\x99nr\\xceYQ\\t\\xa2\\x82\\x8aD\\xc7q\\xcc\\xa0...',\n",
       "         mime_type='image/png'\n",
       "       )\n",
       "     ),\n",
       "   ],\n",
       "   role='user'\n",
       " )]"
      ]
     },
     "execution_count": 50,
     "metadata": {},
     "output_type": "execute_result"
    }
   ],
   "source": [
    "contents"
   ]
  },
  {
   "cell_type": "markdown",
   "id": "bc4e70fe",
   "metadata": {},
   "source": [
    "# Plain dictionary config (no Pydantic)"
   ]
  },
  {
   "cell_type": "code",
   "execution_count": 51,
   "id": "f020b31d",
   "metadata": {},
   "outputs": [],
   "source": [
    "\n",
    "generate_content_config = {\n",
    "    \"response_modalities\": [\"TEXT\", \"IMAGE\"],  # Generate both text and image\n",
    "    # \"temperature\": 0.7,  # Adjust for creativity (0-1)\n",
    "    # \"max_output_tokens\": 200,  # Limit text length\n",
    "}"
   ]
  },
  {
   "cell_type": "markdown",
   "id": "c2439ddd",
   "metadata": {},
   "source": [
    "# Generate content (synchronous non-streaming)"
   ]
  },
  {
   "cell_type": "code",
   "execution_count": 52,
   "id": "96775b1c",
   "metadata": {},
   "outputs": [],
   "source": [
    "response = client.models.generate_content(\n",
    "    model=model,\n",
    "    contents=contents,\n",
    "    config=generate_content_config,\n",
    ")"
   ]
  },
  {
   "cell_type": "markdown",
   "id": "859cc294",
   "metadata": {},
   "source": [
    "# Display Response"
   ]
  },
  {
   "cell_type": "code",
   "execution_count": 53,
   "id": "d1b789d8",
   "metadata": {},
   "outputs": [
    {
     "data": {
      "text/plain": [
       "GenerateContentResponse(\n",
       "  automatic_function_calling_history=[],\n",
       "  candidates=[\n",
       "    Candidate(\n",
       "      content=Content(\n",
       "        parts=[\n",
       "          Part(\n",
       "            text='Here is the e-commerce fashion photo you requested: '\n",
       "          ),\n",
       "          Part(\n",
       "            inline_data=Blob(\n",
       "              data=<... Max depth ...>,\n",
       "              mime_type=<... Max depth ...>\n",
       "            )\n",
       "          ),\n",
       "        ],\n",
       "        role='model'\n",
       "      ),\n",
       "      finish_reason=<FinishReason.STOP: 'STOP'>,\n",
       "      index=0\n",
       "    ),\n",
       "  ],\n",
       "  model_version='gemini-2.5-flash-image-preview',\n",
       "  response_id='4XfCaIvGB4zhz7IPqMO6-QI',\n",
       "  sdk_http_response=HttpResponse(\n",
       "    headers=<dict len=11>\n",
       "  ),\n",
       "  usage_metadata=GenerateContentResponseUsageMetadata(\n",
       "    candidates_token_count=1302,\n",
       "    candidates_tokens_details=[\n",
       "      ModalityTokenCount(\n",
       "        modality=<MediaModality.IMAGE: 'IMAGE'>,\n",
       "        token_count=1290\n",
       "      ),\n",
       "    ],\n",
       "    prompt_token_count=2651,\n",
       "    prompt_tokens_details=[\n",
       "      ModalityTokenCount(\n",
       "        modality=<MediaModality.TEXT: 'TEXT'>,\n",
       "        token_count=71\n",
       "      ),\n",
       "      ModalityTokenCount(\n",
       "        modality=<MediaModality.IMAGE: 'IMAGE'>,\n",
       "        token_count=2580\n",
       "      ),\n",
       "    ],\n",
       "    total_token_count=3953\n",
       "  )\n",
       ")"
      ]
     },
     "execution_count": 53,
     "metadata": {},
     "output_type": "execute_result"
    }
   ],
   "source": [
    "response"
   ]
  },
  {
   "cell_type": "markdown",
   "id": "0c1955cb",
   "metadata": {},
   "source": [
    "# Handle the response if its has text"
   ]
  },
  {
   "cell_type": "code",
   "execution_count": 54,
   "id": "4f6ed14b",
   "metadata": {},
   "outputs": [
    {
     "name": "stderr",
     "output_type": "stream",
     "text": [
      "Warning: there are non-text parts in the response: ['inline_data'], returning concatenated text result from text parts. Check the full candidates.content.parts accessor to get the full model response.\n",
      "Warning: there are non-text parts in the response: ['inline_data'], returning concatenated text result from text parts. Check the full candidates.content.parts accessor to get the full model response.\n"
     ]
    },
    {
     "name": "stdout",
     "output_type": "stream",
     "text": [
      "Generated Text:\n",
      "Here is the e-commerce fashion photo you requested: \n"
     ]
    }
   ],
   "source": [
    "if response.text:\n",
    "    print(\"Generated Text:\")\n",
    "    print(response.text)"
   ]
  },
  {
   "cell_type": "markdown",
   "id": "2c89cee8",
   "metadata": {},
   "source": [
    "# Handle generated image (if present)"
   ]
  },
  {
   "cell_type": "code",
   "execution_count": 55,
   "id": "1d23f6f5",
   "metadata": {},
   "outputs": [
    {
     "name": "stdout",
     "output_type": "stream",
     "text": [
      "\n",
      "Generated Image saved to: ./generated-images/model_wearing_dress.png\n"
     ]
    }
   ],
   "source": [
    "image_found = False\n",
    "for part in response.candidates[0].content.parts:\n",
    "    if hasattr(part, \"inline_data\") and part.inline_data and part.inline_data.data:\n",
    "        image_found = True\n",
    "        mime_type = part.inline_data.mime_type\n",
    "        data_buffer = part.inline_data.data  # Binary blob data\n",
    "        file_extension = mimetypes.guess_extension(mime_type) or \".png\"\n",
    "        output_file = f\"./generated-images/model_wearing_dress{file_extension}\"\n",
    "        with open(output_file, \"wb\") as f:\n",
    "            f.write(data_buffer)\n",
    "        print(f\"\\nGenerated Image saved to: {output_file}\")\n",
    "        break\n",
    "if not image_found:\n",
    "    print(\"\\nNo image generated in this response.\")"
   ]
  }
 ],
 "metadata": {
  "kernelspec": {
   "display_name": "env (3.12.3)",
   "language": "python",
   "name": "python3"
  },
  "language_info": {
   "codemirror_mode": {
    "name": "ipython",
    "version": 3
   },
   "file_extension": ".py",
   "mimetype": "text/x-python",
   "name": "python",
   "nbconvert_exporter": "python",
   "pygments_lexer": "ipython3",
   "version": "3.12.3"
  }
 },
 "nbformat": 4,
 "nbformat_minor": 5
}
